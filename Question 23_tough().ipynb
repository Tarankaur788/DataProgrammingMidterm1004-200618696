{
 "cells": [
  {
   "cell_type": "code",
   "execution_count": null,
   "id": "2ec34717-6374-42be-b895-1bb5bbe93861",
   "metadata": {},
   "outputs": [],
   "source": [
    "Question 23"
   ]
  },
  {
   "cell_type": "code",
   "execution_count": 12,
   "id": "0c54bcb7-9acb-4ed0-baaa-9c81440017c2",
   "metadata": {},
   "outputs": [
    {
     "name": "stdout",
     "output_type": "stream",
     "text": [
      "f(0, 0):\n",
      "\n",
      " f(0, 1):\n",
      "*\n",
      "\n",
      "  f(0, 2):\n",
      "*\n",
      "*\n",
      "**\n",
      "*\n",
      "\n",
      "  f(0, 4):\n",
      "*\n",
      "**\n",
      "***\n"
     ]
    }
   ],
   "source": [
    "def tough(indent, pattern):\n",
    "    if pattern == 0: \n",
    "        return \n",
    "    elif pattern == 1: \n",
    "        print(' ' * indent + '*') \n",
    "        tough(indent, pattern - 1) \n",
    "    elif pattern == 2: \n",
    "        print(' ' * indent + '*') \n",
    "        tough(indent, pattern - 1) \n",
    "        print(' ' * indent + '**') \n",
    "        tough(indent, pattern - 1) \n",
    "    elif pattern == 4: \n",
    "        for i in range(1, 4): \n",
    "            print(' ' * indent + '*' * i) \n",
    "            for i in range(0, 0, -4): \n",
    "                print(' ' * indent + '*' * i) \n",
    "                \n",
    "# Example calls\n",
    "print(\"f(0, 0):\")\n",
    "tough(0, 0)\n",
    "print(\"\\n f(0, 1):\")\n",
    "tough(0, 1)\n",
    "print(\"\\n  f(0, 2):\")\n",
    "tough(0, 2)\n",
    "print(\"\\n  f(0, 4):\")\n",
    "tough(0, 4)"
   ]
  },
  {
   "cell_type": "code",
   "execution_count": null,
   "id": "00828c35-7f16-49e1-b3d2-5f7551b40a81",
   "metadata": {},
   "outputs": [],
   "source": []
  }
 ],
 "metadata": {
  "kernelspec": {
   "display_name": "Python 3 (ipykernel)",
   "language": "python",
   "name": "python3"
  },
  "language_info": {
   "codemirror_mode": {
    "name": "ipython",
    "version": 3
   },
   "file_extension": ".py",
   "mimetype": "text/x-python",
   "name": "python",
   "nbconvert_exporter": "python",
   "pygments_lexer": "ipython3",
   "version": "3.12.6"
  }
 },
 "nbformat": 4,
 "nbformat_minor": 5
}
